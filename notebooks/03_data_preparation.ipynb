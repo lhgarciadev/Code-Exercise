{
 "cells": [
  {
   "cell_type": "code",
   "execution_count": null,
   "metadata": {},
   "outputs": [],
   "source": [
    "%load_ext autoreload\n",
    "%autoreload 2\n"
   ]
  },
  {
   "cell_type": "markdown",
   "metadata": {},
   "source": [
    "# Preparación de los datos"
   ]
  },
  {
   "cell_type": "code",
   "execution_count": null,
   "metadata": {},
   "outputs": [],
   "source": [
    "import json\n",
    "import pandas as pd\n",
    "import numpy as np\n",
    "from sklearn.preprocessing import LabelEncoder\n",
    "\n",
    "def build_dataset():\n",
    "    # Leer el archivo JSONLines\n",
    "    filepath=\"../data/raw/MLA_100k_checked_v3.jsonlines\"\n",
    "    with open(filepath) as f:\n",
    "        data = [json.loads(line) for line in f]\n",
    "\n",
    "    # Convertir a DataFrame\n",
    "    df = pd.DataFrame(data)\n",
    "\n",
    "    # Seller activity\n",
    "    df['seller_freq'] = df['seller_id'].map(df['seller_id'].value_counts(normalize=True))\n",
    "\n",
    "    # Shipping info\n",
    "    df['is_free_shipping'] = df['shipping'].apply(lambda x: x.get('free_shipping', False) if isinstance(x, dict) else False).astype(int)\n",
    "    df['shipping_mode'] = df['shipping'].apply(lambda x: x.get('mode', 'unknown') if isinstance(x, dict) else 'unknown')\n",
    "    df['local_pick_up'] = df['shipping'].apply(lambda x: x.get('local_pick_up', False) if isinstance(x, dict) else False).astype(int)\n",
    "\n",
    "    # Payment methods\n",
    "    df['payment_method_group'] = df['non_mercado_pago_payment_methods'].apply(lambda x: len(x) if isinstance(x, list) else 0).apply(lambda n: n if n <= 3 else '4+')\n",
    "\n",
    "    # Tags\n",
    "    df['has_dragged_visits'] = df['tags'].apply(lambda x: 'dragged_visits' in x or 'dragged_bids_and_visits' in x if isinstance(x, list) else False).astype(int)\n",
    "    df['has_good_thumbnail'] = df['tags'].apply(lambda x: 'good_quality_thumbnail' in x if isinstance(x, list) else False).astype(int)\n",
    "    df['has_poor_thumbnail'] = df['tags'].apply(lambda x: 'poor_quality_thumbnail' in x if isinstance(x, list) else False).astype(int)\n",
    "    df['was_relisted'] = df['tags'].apply(lambda x: 'free_relist' in x if isinstance(x, list) else False).astype(int)\n",
    "\n",
    "    # Images\n",
    "    df['picture_group'] = df['pictures'].apply(lambda x: len(x) if isinstance(x, list) else 0).apply(lambda x: '0' if x == 0 else ('1' if x == 1 else ('2-6' if x <= 6 else '7+')))\n",
    "\n",
    "    # Title features\n",
    "    df['title_length_group'] = df['title'].str.len().apply(lambda x: 'short' if x < 30 else ('medium' if x < 60 else 'long'))\n",
    "    df['title_contains_new'] = df['title'].str.lower().str.contains(\"nuevo\").fillna(False).astype(int)\n",
    "    df['title_contains_used'] = df['title'].str.lower().str.contains(\"usado\").fillna(False).astype(int)\n",
    "\n",
    "    # Location \n",
    "    df['state_id'] = df['seller_address'].apply(lambda x: x['state']['id'] if isinstance(x, dict) else 'unknown')\n",
    "\n",
    "    # Price diff\n",
    "    df['price_diff'] = df['price'] - df['base_price']\n",
    "\n",
    "    # Quantities\n",
    "    df['sold_ratio'] = df['sold_quantity'] / (df['sold_quantity'] + df['available_quantity'] + 1e-5)\n",
    "    df[\"availability_change\"] = df[\"initial_quantity\"] - df[\"available_quantity\"]\n",
    "    df[\"stock_used_ratio\"] = df[\"availability_change\"] / (df[\"initial_quantity\"] + 1e-5)\n",
    "\n",
    "    # Tiempos\n",
    "    df[\"was_updated\"] = (pd.to_datetime(df[\"last_updated\"], errors=\"coerce\") != pd.to_datetime(df[\"date_created\"], errors=\"coerce\")).astype(int)\n",
    "\n",
    "    # Status\n",
    "    df[\"is_active\"] = df[\"status\"].apply(lambda x: 1 if x == \"active\" else 0)\n",
    "\n",
    "    # Columnas base\n",
    "    cols_base = [\n",
    "        \"currency_id\", \"base_price\", \"price\", \"listing_type_id\",\n",
    "        \"initial_quantity\", \"sold_quantity\", \"available_quantity\", \"condition\",\n",
    "        \"seller_freq\", \"is_free_shipping\", \"shipping_mode\", \"local_pick_up\",\n",
    "        \"payment_method_group\", \"has_dragged_visits\", \"has_good_thumbnail\",\n",
    "        \"has_poor_thumbnail\", \"was_relisted\", \"picture_group\", \"title_length_group\",\n",
    "        \"title_contains_new\", \"title_contains_used\", \"state_id\", \"price_diff\",\n",
    "        \"sold_ratio\", \"availability_change\", \"stock_used_ratio\", \"was_updated\",\n",
    "        \"is_active\"\n",
    "        ]\n",
    "\n",
    "    df_model = df[cols_base].copy()\n",
    "\n",
    "    # Target\n",
    "    y = df_model[\"condition\"]\n",
    "    \n",
    "    # Features: eliminamos columnas no predictivas o redundantes\n",
    "    X = df_model.drop(columns=['condition'])\n",
    "\n",
    "    # One-hot encoding para categóricas\n",
    "    X_encoded = pd.get_dummies(X, drop_first=True)\n",
    "\n",
    "    # Codificar target\n",
    "    label_encoder = LabelEncoder()\n",
    "    label_encoder.classes_ = np.array(['used', 'new'])   \n",
    "    y_encoded = label_encoder.transform(y)\n",
    "\n",
    "    # Dividir manualmente usando N = -10000\n",
    "    N = -10000\n",
    "    X_train = X_encoded[:N]\n",
    "    X_test = X_encoded[N:]\n",
    "    y_train = y_encoded[:N]\n",
    "    y_test = y_encoded[N:]\n",
    "\n",
    "    return X_train, y_train, X_test, y_test, label_encoder\n"
   ]
  },
  {
   "cell_type": "code",
   "execution_count": null,
   "metadata": {},
   "outputs": [],
   "source": [
    "X_train, y_train, X_test, y_test, label_encoder = build_dataset()\n",
    "\n",
    "print(\"Dimensiones de los dataset:\")\n",
    "print(\"X_train:\", X_train.shape)\n",
    "print(\"y_train:\", y_train.shape)\n",
    "print(\"X_test:\", X_test.shape)\n",
    "print(\"y_test:\", y_test.shape)\n"
   ]
  },
  {
   "cell_type": "code",
   "execution_count": null,
   "metadata": {},
   "outputs": [],
   "source": [
    "X_train\n"
   ]
  },
  {
   "cell_type": "code",
   "execution_count": null,
   "metadata": {},
   "outputs": [],
   "source": [
    "y_train\n"
   ]
  },
  {
   "cell_type": "code",
   "execution_count": null,
   "metadata": {},
   "outputs": [],
   "source": [
    "# Decodificar etiquetas predichas\n",
    "y_train_labels = label_encoder.inverse_transform(y_train)\n",
    "\n",
    "print(\"Etiquetas predichas (decodificadas):\")\n",
    "print(y_train_labels[:10])\n"
   ]
  }
 ],
 "metadata": {
  "language_info": {
   "name": "python"
  }
 },
 "nbformat": 4,
 "nbformat_minor": 2
}
